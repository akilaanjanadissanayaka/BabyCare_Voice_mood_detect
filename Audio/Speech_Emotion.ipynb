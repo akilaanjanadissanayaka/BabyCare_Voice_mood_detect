{
 "cells": [
  {
   "cell_type": "code",
   "execution_count": 1,
   "metadata": {
    "collapsed": true,
    "ExecuteTime": {
     "end_time": "2023-11-02T19:46:32.048526500Z",
     "start_time": "2023-11-02T19:46:29.503350800Z"
    }
   },
   "outputs": [],
   "source": [
    "import soundfile\n",
    "import numpy as np\n",
    "import librosa\n",
    "import glob\n",
    "import os\n",
    "from sklearn.model_selection import train_test_split\n",
    "\n",
    "# All emotions on RAVDESS dataset\n",
    "int2emotion = {\n",
    "    \"01\": \"neutral\",\n",
    "    \"02\": \"calm\",\n",
    "    \"03\": \"happy\",\n",
    "    \"04\": \"sad\",\n",
    "    \"05\": \"angry\",\n",
    "    \"06\": \"fearful\",\n",
    "    \"07\": \"disgust\",\n",
    "    \"08\": \"surprised\"\n",
    "}\n",
    "\n",
    "# we allow only these emotions\n",
    "AVAILABLE_EMOTIONS = {\n",
    "    \"angry\",\n",
    "    \"sad\",\n",
    "    \"neutral\",\n",
    "    \"happy\"\n",
    "}"
   ]
  },
  {
   "cell_type": "code",
   "execution_count": 2,
   "outputs": [],
   "source": [
    "def extract_feature(file_name, **kwargs):\n",
    "    \"\"\"\n",
    "    Extract feature from audio file `file_name`\n",
    "        Features supported:\n",
    "            - MFCC (mfcc)\n",
    "            - Chroma (chroma)\n",
    "            - MEL Spectrogram Frequency (mel)\n",
    "            - Contrast (contrast)\n",
    "            - Tonnetz (tonnetz)\n",
    "        e.g:\n",
    "        `features = extract_feature(path, mel=True, mfcc=True)`\n",
    "    \"\"\"\n",
    "    mfcc = kwargs.get(\"mfcc\")\n",
    "    chroma = kwargs.get(\"chroma\")\n",
    "    mel = kwargs.get(\"mel\")\n",
    "    contrast = kwargs.get(\"contrast\")\n",
    "    tonnetz = kwargs.get(\"tonnetz\")\n",
    "\n",
    "    with soundfile.SoundFile(file_name) as sound_file:\n",
    "        X = sound_file.read(dtype=\"float32\")\n",
    "        sample_rate = sound_file.samplerate\n",
    "        if chroma or contrast:\n",
    "            stft = np.abs(librosa.stft(X))\n",
    "        result = np.array([])\n",
    "        if mfcc:\n",
    "            mfccs = np.mean(librosa.feature.mfcc(y=X, sr=sample_rate, n_mfcc=40).T, axis=0)\n",
    "            result = np.hstack((result, mfccs))\n",
    "        if chroma:\n",
    "            chroma = np.mean(librosa.feature.chroma_stft(S=stft, sr=sample_rate).T,axis=0)\n",
    "            result = np.hstack((result, chroma))\n",
    "        if mel:\n",
    "            mel = np.mean(librosa.feature.melspectrogram(y=X, sr=sample_rate).T, axis=0)\n",
    "            result = np.hstack((result, mel))\n",
    "        if contrast:\n",
    "            contrast = np.mean(librosa.feature.spectral_contrast(S=stft, sr=sample_rate).T,axis=0)\n",
    "            result = np.hstack((result, contrast))\n",
    "        if tonnetz:\n",
    "            tonnetz = np.mean(librosa.feature.tonnetz(y=librosa.effects.harmonic(X), sr=sample_rate).T,axis=0)\n",
    "            result = np.hstack((result, tonnetz))\n",
    "    return result"
   ],
   "metadata": {
    "collapsed": false,
    "ExecuteTime": {
     "end_time": "2023-11-02T19:46:38.393642Z",
     "start_time": "2023-11-02T19:46:38.389645800Z"
    }
   }
  },
  {
   "cell_type": "code",
   "execution_count": 3,
   "outputs": [
    {
     "data": {
      "text/plain": "[array([[-6.75650085e+02,  9.21675873e+01,  6.17219257e+00, ...,\n          2.09085715e-06,  1.41443979e-06,  1.10900953e-06],\n        [-4.56590485e+02,  2.38685207e+01, -2.35430698e+01, ...,\n          1.96467474e-04,  1.00394347e-04,  6.93314360e-05],\n        [-5.27341187e+02,  2.21599789e+01, -1.56013918e+01, ...,\n          2.31548489e-04,  1.72219283e-04,  9.68881068e-05],\n        ...,\n        [-3.57380066e+02,  1.34679565e+01, -1.66995087e+01, ...,\n          3.10279801e-03,  1.93412637e-03,  1.57549290e-03],\n        [-6.76129761e+02,  6.07729759e+01,  8.59902000e+00, ...,\n          1.32644539e-06,  1.24813118e-06,  8.28826273e-07],\n        [-5.95663818e+02,  6.33558578e+01, -9.15794277e+00, ...,\n          6.76750278e-05,  3.17838239e-05,  1.83957854e-05]]),\n array([[-5.72498230e+02,  4.91992531e+01,  5.40661860e+00, ...,\n          3.17447761e-04,  3.27895832e-04,  2.04258919e-04],\n        [-5.14230225e+02,  5.16041489e+01, -1.68846893e+01, ...,\n          2.26257616e-04,  1.99596383e-04,  9.82874917e-05],\n        [-3.42250092e+02,  1.95349178e+01, -8.26644993e+00, ...,\n          4.76548634e-03,  3.36737442e-03,  3.96793615e-03],\n        ...,\n        [-7.31909363e+02,  6.24612503e+01,  7.61109400e+00, ...,\n          1.81552195e-07,  9.60374749e-08,  5.65404505e-08],\n        [-6.86212341e+02,  6.86182709e+01,  9.42151546e+00, ...,\n          4.53605317e-05,  1.53492674e-05,  9.93469075e-06],\n        [-7.01222351e+02,  6.67220612e+01,  6.97203302e+00, ...,\n          2.40065538e-06,  1.52407574e-06,  1.35216021e-06]]),\n ['happy',\n  'angry',\n  'happy',\n  'sad',\n  'happy',\n  'neutral',\n  'neutral',\n  'angry',\n  'sad',\n  'happy',\n  'angry',\n  'happy',\n  'happy',\n  'sad',\n  'neutral',\n  'happy',\n  'sad',\n  'sad',\n  'happy',\n  'happy',\n  'sad',\n  'sad',\n  'angry',\n  'angry',\n  'neutral',\n  'happy',\n  'angry',\n  'happy',\n  'sad',\n  'happy',\n  'angry',\n  'happy',\n  'happy',\n  'sad',\n  'sad',\n  'happy',\n  'happy',\n  'neutral',\n  'sad',\n  'happy',\n  'happy',\n  'sad',\n  'angry',\n  'sad',\n  'angry',\n  'neutral',\n  'angry',\n  'sad',\n  'angry',\n  'sad',\n  'sad',\n  'angry',\n  'angry',\n  'angry',\n  'sad',\n  'sad',\n  'happy',\n  'happy',\n  'happy',\n  'sad',\n  'sad',\n  'sad',\n  'angry',\n  'sad',\n  'happy',\n  'neutral',\n  'angry',\n  'angry',\n  'angry',\n  'angry',\n  'angry',\n  'happy',\n  'happy',\n  'sad',\n  'happy',\n  'happy',\n  'happy',\n  'happy',\n  'sad',\n  'sad',\n  'happy',\n  'angry',\n  'happy',\n  'angry',\n  'sad',\n  'happy',\n  'angry',\n  'sad',\n  'happy',\n  'angry',\n  'sad',\n  'happy',\n  'sad',\n  'happy',\n  'angry',\n  'sad',\n  'sad',\n  'happy',\n  'happy',\n  'happy',\n  'neutral',\n  'angry',\n  'sad',\n  'happy',\n  'sad',\n  'angry',\n  'sad',\n  'happy',\n  'happy',\n  'happy',\n  'neutral',\n  'neutral',\n  'sad',\n  'angry',\n  'sad',\n  'sad',\n  'happy',\n  'neutral',\n  'happy',\n  'happy',\n  'sad',\n  'sad',\n  'neutral',\n  'happy',\n  'angry',\n  'happy',\n  'happy',\n  'happy',\n  'happy',\n  'angry',\n  'angry',\n  'neutral',\n  'happy',\n  'sad',\n  'angry',\n  'angry',\n  'sad',\n  'neutral',\n  'happy',\n  'happy',\n  'angry',\n  'angry',\n  'sad',\n  'sad',\n  'sad',\n  'sad',\n  'sad',\n  'angry',\n  'sad',\n  'angry',\n  'neutral',\n  'neutral',\n  'sad',\n  'happy',\n  'happy',\n  'sad',\n  'happy',\n  'happy',\n  'sad',\n  'angry',\n  'happy',\n  'happy',\n  'angry',\n  'sad',\n  'happy',\n  'happy',\n  'sad',\n  'neutral',\n  'neutral',\n  'neutral',\n  'happy',\n  'angry',\n  'angry',\n  'sad',\n  'neutral',\n  'neutral',\n  'happy',\n  'angry',\n  'angry',\n  'sad',\n  'happy',\n  'neutral',\n  'angry',\n  'sad',\n  'angry',\n  'angry',\n  'happy',\n  'sad',\n  'happy',\n  'angry',\n  'angry',\n  'angry',\n  'neutral',\n  'neutral',\n  'sad',\n  'angry',\n  'happy',\n  'neutral',\n  'neutral',\n  'neutral',\n  'sad',\n  'sad',\n  'neutral',\n  'sad',\n  'angry',\n  'happy',\n  'angry',\n  'neutral',\n  'angry',\n  'sad',\n  'angry',\n  'happy',\n  'sad',\n  'happy',\n  'sad',\n  'sad',\n  'angry',\n  'neutral',\n  'sad',\n  'sad',\n  'angry',\n  'happy',\n  'happy',\n  'neutral',\n  'angry',\n  'sad',\n  'neutral',\n  'angry',\n  'sad',\n  'angry',\n  'neutral',\n  'angry',\n  'sad',\n  'angry',\n  'sad',\n  'happy',\n  'angry',\n  'happy',\n  'angry',\n  'angry',\n  'sad',\n  'angry',\n  'happy',\n  'sad',\n  'happy',\n  'happy',\n  'happy',\n  'neutral',\n  'happy',\n  'sad',\n  'angry',\n  'angry',\n  'angry',\n  'happy',\n  'neutral',\n  'angry',\n  'happy',\n  'happy',\n  'happy',\n  'happy',\n  'happy',\n  'happy',\n  'angry',\n  'sad',\n  'neutral',\n  'happy',\n  'sad',\n  'angry',\n  'happy',\n  'neutral',\n  'sad',\n  'angry',\n  'happy',\n  'angry',\n  'happy',\n  'happy',\n  'happy',\n  'angry',\n  'happy',\n  'angry',\n  'angry',\n  'neutral',\n  'sad',\n  'sad',\n  'happy',\n  'sad',\n  'angry',\n  'sad',\n  'angry',\n  'happy',\n  'angry',\n  'neutral',\n  'sad',\n  'neutral',\n  'angry',\n  'sad',\n  'sad',\n  'angry',\n  'neutral',\n  'angry',\n  'sad',\n  'neutral',\n  'happy',\n  'sad',\n  'angry',\n  'happy',\n  'sad',\n  'sad',\n  'sad',\n  'sad',\n  'sad',\n  'happy',\n  'angry',\n  'neutral',\n  'happy'],\n ['sad',\n  'angry',\n  'angry',\n  'neutral',\n  'angry',\n  'angry',\n  'sad',\n  'neutral',\n  'angry',\n  'happy',\n  'sad',\n  'happy',\n  'angry',\n  'sad',\n  'neutral',\n  'happy',\n  'sad',\n  'angry',\n  'sad',\n  'happy',\n  'angry',\n  'angry',\n  'angry',\n  'sad',\n  'neutral',\n  'angry',\n  'happy',\n  'happy',\n  'neutral',\n  'neutral',\n  'angry',\n  'sad',\n  'sad',\n  'happy',\n  'angry',\n  'happy',\n  'angry',\n  'angry',\n  'neutral',\n  'sad',\n  'sad',\n  'sad',\n  'angry',\n  'angry',\n  'sad',\n  'angry',\n  'happy',\n  'neutral',\n  'sad',\n  'happy',\n  'happy',\n  'sad',\n  'angry',\n  'neutral',\n  'neutral',\n  'sad',\n  'happy',\n  'happy',\n  'sad',\n  'sad',\n  'sad',\n  'angry',\n  'angry',\n  'angry',\n  'neutral',\n  'sad',\n  'angry',\n  'angry',\n  'sad',\n  'angry',\n  'neutral',\n  'happy',\n  'sad',\n  'neutral',\n  'happy',\n  'happy',\n  'sad',\n  'neutral',\n  'happy',\n  'angry',\n  'happy',\n  'happy',\n  'happy',\n  'sad',\n  'angry',\n  'sad',\n  'angry',\n  'sad',\n  'angry',\n  'happy',\n  'sad',\n  'neutral',\n  'angry',\n  'angry',\n  'sad',\n  'angry',\n  'angry',\n  'neutral',\n  'angry',\n  'angry',\n  'angry',\n  'happy',\n  'sad',\n  'sad',\n  'neutral']]"
     },
     "execution_count": 3,
     "metadata": {},
     "output_type": "execute_result"
    }
   ],
   "source": [
    "# def load_data(test_size=0.2):\n",
    "test_size=0.25\n",
    "X, y = [], []\n",
    "for file in glob.glob(\"data/Actor_*/*.wav\"):\n",
    "    # get the base name of the audio file\n",
    "    basename = os.path.basename(file)\n",
    "    # get the emotion label\n",
    "    emotion = int2emotion[basename.split(\"-\")[2]]\n",
    "    # we allow only AVAILABLE_EMOTIONS we set\n",
    "    if emotion not in AVAILABLE_EMOTIONS:\n",
    "        continue\n",
    "    # extract speech features\n",
    "    features = extract_feature(file, mfcc=True, chroma=True, mel=True)\n",
    "    # add to data\n",
    "    X.append(features)\n",
    "    y.append(emotion)\n",
    "# split the data to training and testing and return it\n",
    "train_test_split(np.array(X), y, test_size=test_size, random_state=7)"
   ],
   "metadata": {
    "collapsed": false,
    "ExecuteTime": {
     "end_time": "2023-11-02T19:47:00.286635100Z",
     "start_time": "2023-11-02T19:46:44.984754Z"
    }
   }
  },
  {
   "cell_type": "code",
   "execution_count": 4,
   "outputs": [],
   "source": [
    "def load_data(test_size=0.25):\n",
    "    X, y = [], []\n",
    "    for file in glob.glob(\"data/Actor_*/*.wav\"):\n",
    "        # get the base name of the audio file\n",
    "        basename = os.path.basename(file)\n",
    "        # get the emotion label\n",
    "        emotion = int2emotion[basename.split(\"-\")[2]]\n",
    "        # we allow only AVAILABLE_EMOTIONS we set\n",
    "        if emotion not in AVAILABLE_EMOTIONS:\n",
    "            continue\n",
    "        # extract speech features\n",
    "        features = extract_feature(file, mfcc=True, chroma=True, mel=True)\n",
    "        # add to data\n",
    "        X.append(features)\n",
    "        y.append(emotion)\n",
    "    # split the data to training and testing and return it\n",
    "    return train_test_split(np.array(X), y, test_size=test_size, random_state=10)"
   ],
   "metadata": {
    "collapsed": false,
    "ExecuteTime": {
     "end_time": "2023-11-02T19:47:06.164095300Z",
     "start_time": "2023-11-02T19:47:06.156097400Z"
    }
   }
  },
  {
   "cell_type": "markdown",
   "source": [
    "### MLP Classifer Model"
   ],
   "metadata": {
    "collapsed": false
   }
  },
  {
   "cell_type": "code",
   "execution_count": 5,
   "outputs": [],
   "source": [
    "from sklearn.neural_network import MLPClassifier\n",
    "from sklearn.metrics import accuracy_score\n",
    "# from utils import load_data\n",
    "import os\n",
    "import pickle"
   ],
   "metadata": {
    "collapsed": false,
    "ExecuteTime": {
     "end_time": "2023-11-02T19:47:09.825376200Z",
     "start_time": "2023-11-02T19:47:09.810699100Z"
    }
   }
  },
  {
   "cell_type": "code",
   "execution_count": 6,
   "outputs": [],
   "source": [
    "import numpy as np\n",
    "import matplotlib.pyplot as plt\n",
    "from sklearn.model_selection import train_test_split"
   ],
   "metadata": {
    "collapsed": false,
    "ExecuteTime": {
     "end_time": "2023-11-02T19:47:12.929441600Z",
     "start_time": "2023-11-02T19:47:11.801869200Z"
    }
   }
  },
  {
   "cell_type": "code",
   "execution_count": 7,
   "outputs": [
    {
     "name": "stdout",
     "output_type": "stream",
     "text": [
      "[+] Number of training samples: 294\n",
      "[+] Number of testing samples: 126\n",
      "[+] Number of features: 180\n"
     ]
    }
   ],
   "source": [
    "# load RAVDESS dataset\n",
    "X_train, X_test, y_train, y_test = load_data(test_size=0.30)\n",
    "# Number of Samples in training data\n",
    "\n",
    "print(\"[+] Number of training samples:\", X_train.shape[0])\n",
    "# number of samples in testing data\n",
    "print(\"[+] Number of testing samples:\", X_test.shape[0])\n",
    "\n",
    "# Number of features used this is a vector of features extracted\n",
    "# Using utils.extract_features() method\n",
    "\n",
    "print(\"[+] Number of features:\", X_train.shape[1])\n",
    "# best model, determined by a grid search\n",
    "model_params = {\n",
    "    'alpha': 0.01,\n",
    "    'batch_size': 128,\n",
    "    'epsilon': 1e-08,\n",
    "    'hidden_layer_sizes': (300,),\n",
    "    'learning_rate': 'adaptive',\n",
    "    'max_iter': 500,\n",
    "}"
   ],
   "metadata": {
    "collapsed": false,
    "ExecuteTime": {
     "end_time": "2023-11-02T19:47:25.727177500Z",
     "start_time": "2023-11-02T19:47:17.883921900Z"
    }
   }
  },
  {
   "cell_type": "code",
   "execution_count": 8,
   "outputs": [
    {
     "name": "stdout",
     "output_type": "stream",
     "text": [
      "[*] Training the model...\n",
      "Accuracy: 72.22%\n"
     ]
    },
    {
     "data": {
      "text/plain": "<Figure size 1000x500 with 1 Axes>",
      "image/png": "[encoded data removed]"
     },
     "metadata": {},
     "output_type": "display_data"
    }
   ],
   "source": [
    "# Initialize Multi Layer Perceptron classifier with Best Parameters\n",
    "model = MLPClassifier(**model_params)\n",
    "\n",
    "# Train the model and capture the training history\n",
    "print(\"[*] Training the model...\")\n",
    "history = model.fit(X_train, y_train)\n",
    "\n",
    "# Predict on the test set\n",
    "y_pred = model.predict(X_test)\n",
    "\n",
    "# Calculate the accuracy on the test set\n",
    "accuracy = accuracy_score(y_true=y_test, y_pred=y_pred)\n",
    "print(\"Accuracy: {:.2f}%\".format(accuracy * 100))\n",
    "\n",
    "# Plot training loss\n",
    "plt.figure(figsize=(10, 5))\n",
    "plt.plot(history.loss_curve_)\n",
    "plt.title(\"Training Loss\")\n",
    "\n",
    "plt.show()"
   ],
   "metadata": {
    "collapsed": false,
    "ExecuteTime": {
     "end_time": "2023-11-02T19:47:33.799806900Z",
     "start_time": "2023-11-02T19:47:33.331062500Z"
    }
   }
  },
  {
   "cell_type": "code",
   "execution_count": 9,
   "outputs": [],
   "source": [
    "# Saving the Model\n",
    "# Make result directory if doesn't exist yet\n",
    "if not os.path.isdir(\"result\"):\n",
    "    os.mkdir(\"result\")\n",
    "\n",
    "pickle.dump(model, open(\"result/mlp_classifier2model.h5\", \"wb\"))"
   ],
   "metadata": {
    "collapsed": false,
    "ExecuteTime": {
     "end_time": "2023-11-02T19:47:42.372886600Z",
     "start_time": "2023-11-02T19:47:42.348582600Z"
    }
   }
  },
  {
   "cell_type": "markdown",
   "source": [
    "## SVM Model Classification"
   ],
   "metadata": {
    "collapsed": false
   }
  },
  {
   "cell_type": "code",
   "execution_count": 10,
   "outputs": [
    {
     "name": "stdout",
     "output_type": "stream",
     "text": [
      "[+] Number of training samples: 294\n",
      "[+] Number of testing samples: 126\n",
      "[+] Number of features: 180\n"
     ]
    }
   ],
   "source": [
    "from sklearn.svm import SVC\n",
    "from sklearn.metrics import accuracy_score\n",
    "\n",
    "# Load and split the data (as you did before)\n",
    "X_train, X_test, y_train, y_test = load_data(test_size=0.30)\n",
    "\n",
    "# Number of Samples in training data\n",
    "print(\"[+] Number of training samples:\", X_train.shape[0])\n",
    "\n",
    "# Number of samples in testing data\n",
    "print(\"[+] Number of testing samples:\", X_test.shape[0])\n",
    "\n",
    "# Number of features used this is a vector of features extracted\n",
    "# Using utils.extract_features() method\n",
    "print(\"[+] Number of features:\", X_train.shape[1])\n",
    "\n",
    "# Initialize the SVM classifier with parameters\n",
    "svm_params = {\n",
    "    'C': 1.0,\n",
    "    'kernel': 'linear',  # You can explore different kernels\n",
    "    'random_state': 10,\n",
    "}"
   ],
   "metadata": {
    "collapsed": false,
    "ExecuteTime": {
     "end_time": "2023-11-02T19:48:39.340943200Z",
     "start_time": "2023-11-02T19:48:31.623437100Z"
    }
   }
  },
  {
   "cell_type": "code",
   "execution_count": 11,
   "outputs": [
    {
     "name": "stdout",
     "output_type": "stream",
     "text": [
      "[*] Training the SVM model...\n",
      "Accuracy: 72.22%\n"
     ]
    }
   ],
   "source": [
    "model2 = SVC(**svm_params)\n",
    "\n",
    "# Train the SVM model\n",
    "print(\"[*] Training the SVM model...\")\n",
    "model2.fit(X_train, y_train)\n",
    "\n",
    "# Predict on the test set\n",
    "y_pred = model2.predict(X_test)\n",
    "\n",
    "# Calculate the accuracy on the test set\n",
    "accuracy = accuracy_score(y_true=y_test, y_pred=y_pred)\n",
    "print(\"Accuracy: {:.2f}%\".format(accuracy * 100))"
   ],
   "metadata": {
    "collapsed": false,
    "ExecuteTime": {
     "end_time": "2023-11-02T19:48:43.843244500Z",
     "start_time": "2023-11-02T19:48:43.380210900Z"
    }
   }
  },
  {
   "cell_type": "code",
   "execution_count": 12,
   "outputs": [],
   "source": [
    "# Saving the Model\n",
    "# Make result directory if doesn't exist yet\n",
    "if not os.path.isdir(\"result\"):\n",
    "    os.mkdir(\"result\")\n",
    "\n",
    "pickle.dump(model2, open(\"result/svm_audioClassify.h5\", \"wb\"))"
   ],
   "metadata": {
    "collapsed": false,
    "ExecuteTime": {
     "end_time": "2023-11-02T19:48:59.098787900Z",
     "start_time": "2023-11-02T19:48:59.088788200Z"
    }
   }
  },
  {
   "cell_type": "markdown",
   "source": [
    "## Splitting Data"
   ],
   "metadata": {
    "collapsed": false
   }
  },
  {
   "cell_type": "code",
   "execution_count": 13,
   "outputs": [
    {
     "name": "stdout",
     "output_type": "stream",
     "text": [
      "04\n",
      "sad\n"
     ]
    }
   ],
   "source": [
    "baseline = \"03-01-04-02-02-01-18.wav\"\n",
    "em=baseline.split(\"-\")[2]\n",
    "emotion = int2emotion[baseline.split(\"-\")[2]]\n",
    "print(em)\n",
    "print(emotion)"
   ],
   "metadata": {
    "collapsed": false,
    "ExecuteTime": {
     "end_time": "2023-11-02T19:49:06.664770100Z",
     "start_time": "2023-11-02T19:49:06.648862800Z"
    }
   }
  },
  {
   "cell_type": "code",
   "execution_count": 15,
   "outputs": [],
   "source": [
    "RATE = 16000\n",
    "from scipy.io import wavfile\n",
    "import noisereduce as nr\n",
    "# load data\n",
    "#Actor 15 Second File\n",
    "rate, data = wavfile.read(\"result/03-01-01-01-01-02-15.wav\")\n",
    "# perform noise reduction\n",
    "reduced_noise = nr.reduce_noise(y=data, sr=RATE, prop_decrease=0.65,n_std_thresh_stationary=1.8)\n",
    "wavfile.write(\"result/myred_noise.wav\", rate, reduced_noise)"
   ],
   "metadata": {
    "collapsed": false,
    "ExecuteTime": {
     "end_time": "2023-11-02T19:53:12.436183Z",
     "start_time": "2023-11-02T19:53:09.634642900Z"
    }
   }
  },
  {
   "cell_type": "code",
   "execution_count": 16,
   "outputs": [
    {
     "name": "stderr",
     "output_type": "stream",
     "text": [
      "[nltk_data] Downloading package punkt to\n",
      "[nltk_data]     C:\\Users\\user\\AppData\\Roaming\\nltk_data...\n",
      "[nltk_data]   Unzipping tokenizers\\punkt.zip.\n"
     ]
    },
    {
     "data": {
      "text/plain": "True"
     },
     "execution_count": 16,
     "metadata": {},
     "output_type": "execute_result"
    }
   ],
   "source": [
    "import nltk\n",
    "nltk.download('punkt')"
   ],
   "metadata": {
    "collapsed": false,
    "ExecuteTime": {
     "end_time": "2023-11-02T20:10:37.860591100Z",
     "start_time": "2023-11-02T20:10:28.425328900Z"
    }
   }
  },
  {
   "cell_type": "code",
   "execution_count": 17,
   "outputs": [
    {
     "name": "stderr",
     "output_type": "stream",
     "text": [
      "[nltk_data] Downloading package stopwords to\n",
      "[nltk_data]     C:\\Users\\user\\AppData\\Roaming\\nltk_data...\n",
      "[nltk_data]   Unzipping corpora\\stopwords.zip.\n"
     ]
    },
    {
     "data": {
      "text/plain": "True"
     },
     "execution_count": 17,
     "metadata": {},
     "output_type": "execute_result"
    }
   ],
   "source": [
    "nltk.download('stopwords')\n"
   ],
   "metadata": {
    "collapsed": false,
    "ExecuteTime": {
     "end_time": "2023-11-02T20:11:59.635438Z",
     "start_time": "2023-11-02T20:11:59.305442100Z"
    }
   }
  }
 ],
 "metadata": {
  "kernelspec": {
   "display_name": "Python 3",
   "language": "python",
   "name": "python3"
  },
  "language_info": {
   "codemirror_mode": {
    "name": "ipython",
    "version": 2
   },
   "file_extension": ".py",
   "mimetype": "text/x-python",
   "name": "python",
   "nbconvert_exporter": "python",
   "pygments_lexer": "ipython2",
   "version": "2.7.6"
  }
 },
 "nbformat": 4,
 "nbformat_minor": 0
}
